{
 "cells": [
  {
   "cell_type": "code",
   "execution_count": 1,
   "id": "2347c4d9",
   "metadata": {},
   "outputs": [
    {
     "data": {
      "image/png": "[encoded data removed]",
      "text/plain": [
       "<Figure size 576x720 with 1 Axes>"
      ]
     },
     "metadata": {
      "needs_background": "light"
     },
     "output_type": "display_data"
    }
   ],
   "source": [
    "import numpy as np\n",
    "import matplotlib.pyplot as plt\n",
    "\n",
    "## 函数 z = x*x + 2*y, 生成 80000 个样本， x是从 0-100 之间均匀分布的8000个数字，y是<1000的80000个数字 ；\n",
    "total = 80000\n",
    "x = np.linspace(0, 100, total)\n",
    "y = np.random.randint(1000,size=total)\n",
    "z = x**2 + 2*y\n",
    "\n",
    "plt.figure(figsize=(8,10))\n",
    "plt.plot(x,y,label=\"$y$\",color=\"red\",linewidth=2)\n",
    "plt.plot(x,z,\"b--\",label=\"$(x^2+2*y)$\")\n",
    "plt.xlabel(\"Time(s)\")\n",
    "plt.ylabel(\"Volt\")\n",
    "plt.title(\"PyPlot First Example\")\n",
    "#plt.ylim(0, 15000)\n",
    "plt.legend()\n",
    "plt.show()"
   ]
  },
  {
   "cell_type": "code",
   "execution_count": 2,
   "id": "f84c5ba0",
   "metadata": {},
   "outputs": [
    {
     "name": "stdout",
     "output_type": "stream",
     "text": [
      "(80000, 2)\n"
     ]
    }
   ],
   "source": [
    "import numpy as np\n",
    "import matplotlib.pyplot as plt\n",
    "from dataset.mnist import load_mnist\n",
    "\n",
    "\n",
    "# 读入数据\n",
    "#(x_train, t_train), (x_test, t_test) = load_mnist(normalize=True, one_hot_label=True)\n",
    "\n",
    "#x_train.shape\n",
    "\n",
    "#len(x_train[0])\n"
   ]
  },
  {
   "cell_type": "code",
   "execution_count": 4,
   "id": "f2f08325",
   "metadata": {},
   "outputs": [
    {
     "name": "stdout",
     "output_type": "stream",
     "text": [
      "(80000, 2)\n",
      "(80000, 2)\n",
      "(80000,)\n",
      "[ 0. 59.] 118.0\n",
      "[1.25001563e-03 4.15000000e+02] 830.0000015625391\n",
      "[2.50003125e-03 1.47000000e+02] 294.0000062501563\n",
      "[ 0.25000313 21.        ] 42.0625015625293\n"
     ]
    }
   ],
   "source": [
    "import numpy as np\n",
    "import matplotlib.pyplot as plt\n",
    "\n",
    "input = np.zeros([total,2])\n",
    "print(input.shape)\n",
    "\n",
    "output = np.zeros(total)\n",
    "\n",
    "for i in range(total):\n",
    "    input[i] = (x[i], y[i])\n",
    "    output[i] = z[i]\n",
    "\n",
    "print(input.shape)\n",
    "print(output.shape)\n",
    "print(input[0], output[0])\n",
    "print(input[1], output[1])\n",
    "print(input[2], output[2])\n",
    "print(input[200], output[200])"
   ]
  },
  {
   "cell_type": "code",
   "execution_count": 5,
   "id": "8061dbb5",
   "metadata": {},
   "outputs": [
    {
     "name": "stderr",
     "output_type": "stream",
     "text": [
      "2021-11-07 18:00:10.893679: I tensorflow/core/common_runtime/pluggable_device/pluggable_device_factory.cc:305] Could not identify NUMA node of platform GPU ID 0, defaulting to 0. Your kernel may not have been built with NUMA support.\n",
      "2021-11-07 18:00:10.894338: I tensorflow/core/common_runtime/pluggable_device/pluggable_device_factory.cc:271] Created TensorFlow device (/job:localhost/replica:0/task:0/device:GPU:0 with 0 MB memory) -> physical PluggableDevice (device: 0, name: METAL, pci bus id: <undefined>)\n"
     ]
    },
    {
     "name": "stdout",
     "output_type": "stream",
     "text": [
      "Metal device set to: Apple M1\n"
     ]
    },
    {
     "name": "stderr",
     "output_type": "stream",
     "text": [
      "2021-11-07 18:00:11.315079: I tensorflow/compiler/mlir/mlir_graph_optimization_pass.cc:185] None of the MLIR Optimization Passes are enabled (registered 2)\n",
      "2021-11-07 18:00:11.318284: W tensorflow/core/platform/profile_utils/cpu_utils.cc:128] Failed to get CPU frequency: 0 Hz\n",
      "2021-11-07 18:00:11.459414: I tensorflow/core/grappler/optimizers/custom_graph_optimizer_registry.cc:112] Plugin optimizer for device_type GPU is enabled.\n"
     ]
    },
    {
     "name": "stdout",
     "output_type": "stream",
     "text": [
      "Epoch 1/15\n",
      "2500/2500 [==============================] - 10s 4ms/step - loss: 905062.1250 - mae: 697.3808 - mse: 905062.1250\n",
      "Epoch 2/15\n",
      "2500/2500 [==============================] - 10s 4ms/step - loss: 411992.3750 - mae: 451.8226 - mse: 411992.3750\n",
      "Epoch 3/15\n",
      "2500/2500 [==============================] - 10s 4ms/step - loss: 320328.5625 - mae: 392.1287 - mse: 320328.5625\n",
      "Epoch 4/15\n",
      "2500/2500 [==============================] - 10s 4ms/step - loss: 262819.8438 - mae: 349.4919 - mse: 262819.8438\n",
      "Epoch 5/15\n",
      "2500/2500 [==============================] - 10s 4ms/step - loss: 217462.3281 - mae: 308.5135 - mse: 217462.3281\n",
      "Epoch 6/15\n",
      "2500/2500 [==============================] - 10s 4ms/step - loss: 181991.8594 - mae: 271.8238 - mse: 181991.8594\n",
      "Epoch 7/15\n",
      "2500/2500 [==============================] - 10s 4ms/step - loss: 157704.9062 - mae: 253.4466 - mse: 157704.9062\n",
      "Epoch 8/15\n",
      "2500/2500 [==============================] - 10s 4ms/step - loss: 141173.7344 - mae: 240.9149 - mse: 141173.7344\n",
      "Epoch 9/15\n",
      "2500/2500 [==============================] - 10s 4ms/step - loss: 129727.2656 - mae: 232.2946 - mse: 129727.2656\n",
      "Epoch 10/15\n",
      "2500/2500 [==============================] - 10s 4ms/step - loss: 124203.8594 - mae: 227.3699 - mse: 124203.8594\n",
      "Epoch 11/15\n",
      "2500/2500 [==============================] - 10s 4ms/step - loss: 120373.8438 - mae: 225.3336 - mse: 120373.8438\n",
      "Epoch 12/15\n",
      "2500/2500 [==============================] - 10s 4ms/step - loss: 118525.2812 - mae: 226.8641 - mse: 118525.2812\n",
      "Epoch 13/15\n",
      "2500/2500 [==============================] - 10s 4ms/step - loss: 114596.7188 - mae: 225.6951 - mse: 114596.7188\n",
      "Epoch 14/15\n",
      "2500/2500 [==============================] - 10s 4ms/step - loss: 112954.1172 - mae: 221.1882 - mse: 112954.1172\n",
      "Epoch 15/15\n",
      "2500/2500 [==============================] - 10s 4ms/step - loss: 109493.3672 - mae: 221.7279 - mse: 109493.3672\n"
     ]
    }
   ],
   "source": [
    "import tensorflow as tf\n",
    "(x_train, y_train) = (input,output)\n",
    "\n",
    "model = tf.keras.models.Sequential([\n",
    "  tf.keras.Input(shape=(2,)),\n",
    "  tf.keras.layers.Dense(24, activation='relu'),\n",
    "  tf.keras.layers.Dense(12, activation='relu'),\n",
    "  tf.keras.layers.Dense(1)\n",
    "])\n",
    "\n",
    "model.compile(optimizer=tf.keras.optimizers.RMSprop(0.02),\n",
    "              loss='mean_squared_error', metrics=['mae','mse'])\n",
    "\n",
    "#训练模型\n",
    "history = model.fit(x_train, y_train, epochs=15)"
   ]
  },
  {
   "cell_type": "code",
   "execution_count": 8,
   "id": "03e019b8",
   "metadata": {},
   "outputs": [
    {
     "data": {
      "text/plain": [
       "array([[2271.7625],\n",
       "       [ 336.1219],\n",
       "       [1132.2782],\n",
       "       [3892.6077]], dtype=float32)"
      ]
     },
     "execution_count": 8,
     "metadata": {},
     "output_type": "execute_result"
    }
   ],
   "source": [
    "model.predict([[45,100],[10,20],[30,50],[60,80]])"
   ]
  },
  {
   "cell_type": "code",
   "execution_count": 6,
   "id": "792c8776",
   "metadata": {},
   "outputs": [
    {
     "name": "stdout",
     "output_type": "stream",
     "text": [
      "Epoch 1/10\n",
      "  10/2500 [..............................] - ETA: 15s - loss: 30461462.0000 - mae: 4468.2798 - mse: 30461462.0000  "
     ]
    },
    {
     "name": "stderr",
     "output_type": "stream",
     "text": [
      "2021-10-25 00:14:56.579814: I tensorflow/core/grappler/optimizers/custom_graph_optimizer_registry.cc:112] Plugin optimizer for device_type GPU is enabled.\n"
     ]
    },
    {
     "name": "stdout",
     "output_type": "stream",
     "text": [
      "2500/2500 [==============================] - 16s 6ms/step - loss: 843013.7500 - mae: 618.9134 - mse: 843013.7500\n",
      "Epoch 2/10\n",
      "2500/2500 [==============================] - 15s 6ms/step - loss: 178815.0781 - mae: 293.3965 - mse: 178815.0781\n",
      "Epoch 3/10\n",
      "2500/2500 [==============================] - 16s 6ms/step - loss: 84607.8516 - mae: 197.8997 - mse: 84607.8516\n",
      "Epoch 4/10\n",
      "2500/2500 [==============================] - 15s 6ms/step - loss: 58478.6445 - mae: 163.4881 - mse: 58478.6445\n",
      "Epoch 5/10\n",
      "2500/2500 [==============================] - 16s 6ms/step - loss: 48564.8008 - mae: 154.2717 - mse: 48564.8008\n",
      "Epoch 6/10\n",
      "2500/2500 [==============================] - 16s 6ms/step - loss: 59235.3047 - mae: 156.4817 - mse: 59235.3047\n",
      "Epoch 7/10\n",
      "2500/2500 [==============================] - 16s 6ms/step - loss: 38436.9062 - mae: 146.4743 - mse: 38436.9062\n",
      "Epoch 8/10\n",
      "2500/2500 [==============================] - 16s 6ms/step - loss: 24910.1484 - mae: 118.6561 - mse: 24910.1484\n",
      "Epoch 9/10\n",
      "2500/2500 [==============================] - 16s 6ms/step - loss: 23987.7891 - mae: 113.0933 - mse: 23987.7891\n",
      "Epoch 10/10\n",
      "2500/2500 [==============================] - 15s 6ms/step - loss: 20498.7051 - mae: 108.8869 - mse: 20498.7051\n"
     ]
    }
   ],
   "source": [
    "import tensorflow as tf\n",
    "(x_train, y_train) = (input,output)\n",
    "\n",
    "model = tf.keras.models.Sequential([\n",
    "  tf.keras.Input(shape=(2,)),\n",
    "  tf.keras.layers.Dense(24, activation='relu'),\n",
    "  tf.keras.layers.Dense(12, activation='relu'),\n",
    "  tf.keras.layers.Dense(1)\n",
    "])\n",
    "\n",
    "model.compile(optimizer=tf.keras.optimizers.Nadam(learning_rate=0.02),\n",
    "              loss='mean_squared_error', metrics=['mae','mse'])\n",
    "\n",
    "#训练模型\n",
    "history = model.fit(x_train, y_train, epochs=10)"
   ]
  },
  {
   "cell_type": "code",
   "execution_count": 6,
   "id": "58ba2a5b",
   "metadata": {},
   "outputs": [
    {
     "ename": "NameError",
     "evalue": "name 'model' is not defined",
     "output_type": "error",
     "traceback": [
      "\u001b[0;31m---------------------------------------------------------------------------\u001b[0m",
      "\u001b[0;31mNameError\u001b[0m                                 Traceback (most recent call last)",
      "\u001b[0;32m/var/folders/mp/t3xk86rj44vf2gq9x5wvj0gm0000gn/T/ipykernel_14291/2011538414.py\u001b[0m in \u001b[0;36m<module>\u001b[0;34m\u001b[0m\n\u001b[0;32m----> 1\u001b[0;31m \u001b[0mmodel\u001b[0m\u001b[0;34m.\u001b[0m\u001b[0mpredict\u001b[0m\u001b[0;34m(\u001b[0m\u001b[0;34m[\u001b[0m\u001b[0;34m[\u001b[0m\u001b[0;36m45\u001b[0m\u001b[0;34m,\u001b[0m\u001b[0;36m100\u001b[0m\u001b[0;34m]\u001b[0m\u001b[0;34m,\u001b[0m\u001b[0;34m[\u001b[0m\u001b[0;36m10\u001b[0m\u001b[0;34m,\u001b[0m\u001b[0;36m20\u001b[0m\u001b[0;34m]\u001b[0m\u001b[0;34m,\u001b[0m\u001b[0;34m[\u001b[0m\u001b[0;36m30\u001b[0m\u001b[0;34m,\u001b[0m\u001b[0;36m50\u001b[0m\u001b[0;34m]\u001b[0m\u001b[0;34m,\u001b[0m\u001b[0;34m[\u001b[0m\u001b[0;36m60\u001b[0m\u001b[0;34m,\u001b[0m\u001b[0;36m80\u001b[0m\u001b[0;34m]\u001b[0m\u001b[0;34m]\u001b[0m\u001b[0;34m)\u001b[0m\u001b[0;34m\u001b[0m\u001b[0;34m\u001b[0m\u001b[0m\n\u001b[0m",
      "\u001b[0;31mNameError\u001b[0m: name 'model' is not defined"
     ]
    }
   ],
   "source": [
    "model.predict([[45,100],[10,20],[30,50],[60,80]])"
   ]
  },
  {
   "cell_type": "code",
   "execution_count": 10,
   "id": "d9f0853c",
   "metadata": {},
   "outputs": [
    {
     "name": "stdout",
     "output_type": "stream",
     "text": [
      "Epoch 1/15\n",
      "   8/1600 [..............................] - ETA: 12s - loss: 25706038.0000 - mae: 4003.6877 - mse: 25706038.0000 "
     ]
    },
    {
     "name": "stderr",
     "output_type": "stream",
     "text": [
      "2021-11-07 18:23:34.976596: I tensorflow/core/grappler/optimizers/custom_graph_optimizer_registry.cc:112] Plugin optimizer for device_type GPU is enabled.\n"
     ]
    },
    {
     "name": "stdout",
     "output_type": "stream",
     "text": [
      "1600/1600 [==============================] - 13s 8ms/step - loss: 969170.8125 - mae: 680.8398 - mse: 969170.8125\n",
      "Epoch 2/15\n",
      "1600/1600 [==============================] - 13s 8ms/step - loss: 296651.6250 - mae: 361.7083 - mse: 296651.6250\n",
      "Epoch 3/15\n",
      "1600/1600 [==============================] - 13s 8ms/step - loss: 169997.9688 - mae: 255.5428 - mse: 169997.9688\n",
      "Epoch 4/15\n",
      "1600/1600 [==============================] - 12s 8ms/step - loss: 125974.0703 - mae: 217.3686 - mse: 125974.0703\n",
      "Epoch 5/15\n",
      "1600/1600 [==============================] - 13s 8ms/step - loss: 74774.6953 - mae: 165.8670 - mse: 74774.6953\n",
      "Epoch 6/15\n",
      "1600/1600 [==============================] - 13s 8ms/step - loss: 59363.4922 - mae: 144.4705 - mse: 59363.4922\n",
      "Epoch 7/15\n",
      "1600/1600 [==============================] - 13s 8ms/step - loss: 42491.9805 - mae: 123.6978 - mse: 42491.9805\n",
      "Epoch 8/15\n",
      "1600/1600 [==============================] - 12s 8ms/step - loss: 39725.0352 - mae: 115.9161 - mse: 39725.0352\n",
      "Epoch 9/15\n",
      "1600/1600 [==============================] - 12s 8ms/step - loss: 31136.7441 - mae: 103.5909 - mse: 31136.7441\n",
      "Epoch 10/15\n",
      "1600/1600 [==============================] - 12s 8ms/step - loss: 25983.8066 - mae: 94.0297 - mse: 25983.8066\n",
      "Epoch 11/15\n",
      "1600/1600 [==============================] - 13s 8ms/step - loss: 24997.7109 - mae: 87.9649 - mse: 24997.7109\n",
      "Epoch 12/15\n",
      "1600/1600 [==============================] - 13s 8ms/step - loss: 18597.2383 - mae: 79.3321 - mse: 18597.2383\n",
      "Epoch 13/15\n",
      "1600/1600 [==============================] - 13s 8ms/step - loss: 18474.7168 - mae: 75.2394 - mse: 18474.7168\n",
      "Epoch 14/15\n",
      "1600/1600 [==============================] - 12s 8ms/step - loss: 14886.6836 - mae: 68.3936 - mse: 14886.6836\n",
      "Epoch 15/15\n",
      "1600/1600 [==============================] - 13s 8ms/step - loss: 16632.0352 - mae: 73.1809 - mse: 16632.0352\n"
     ]
    },
    {
     "name": "stderr",
     "output_type": "stream",
     "text": [
      "2021-11-07 18:26:43.790265: I tensorflow/core/grappler/optimizers/custom_graph_optimizer_registry.cc:112] Plugin optimizer for device_type GPU is enabled.\n"
     ]
    },
    {
     "data": {
      "text/plain": [
       "array([[2239.2454 ],\n",
       "       [ 185.3527 ],\n",
       "       [ 997.70325],\n",
       "       [3800.0837 ]], dtype=float32)"
      ]
     },
     "execution_count": 10,
     "metadata": {},
     "output_type": "execute_result"
    }
   ],
   "source": [
    "import tensorflow as tf\n",
    "(x_train, y_train) = (input,output)\n",
    "\n",
    "model = tf.keras.models.Sequential([\n",
    "  tf.keras.layers.Dense(40, input_dim=2, activation='relu'),\n",
    "  tf.keras.layers.Dense(24, activation='relu'),\n",
    "  tf.keras.layers.Dense(12, activation='relu'),\n",
    "  tf.keras.layers.Dense(1)\n",
    "])\n",
    "\n",
    "model.compile(optimizer=tf.keras.optimizers.Nadam(learning_rate=0.02),\n",
    "              loss='mean_squared_error', metrics=['mae','mse'])\n",
    "\n",
    "#训练模型\n",
    "history = model.fit(x_train, y_train, epochs=15, batch_size=50)\n",
    "\n",
    "model.predict([[45,100],[10,20],[30,50],[60,80]])"
   ]
  },
  {
   "cell_type": "code",
   "execution_count": 11,
   "id": "4b9885dc",
   "metadata": {},
   "outputs": [
    {
     "data": {
      "text/plain": [
       "array([[2239.2454 ],\n",
       "       [ 185.3527 ],\n",
       "       [ 997.70325],\n",
       "       [3800.0837 ]], dtype=float32)"
      ]
     },
     "execution_count": 11,
     "metadata": {},
     "output_type": "execute_result"
    }
   ],
   "source": [
    "model.predict([[45,100],[10,20],[30,50],[60,80]])\n"
   ]
  },
  {
   "cell_type": "code",
   "execution_count": 12,
   "id": "f652f574",
   "metadata": {},
   "outputs": [
    {
     "name": "stdout",
     "output_type": "stream",
     "text": [
      "[[2225], [140], [1000], [3760]]\n"
     ]
    }
   ],
   "source": [
    "z1 = [[45*45 + 2*100],[10*10 + 2*20],[30*30 + 2*50],[60*60 + 2*80]]\n",
    "print(z1)"
   ]
  },
  {
   "cell_type": "code",
   "execution_count": 11,
   "id": "e6471903",
   "metadata": {},
   "outputs": [
    {
     "name": "stdout",
     "output_type": "stream",
     "text": [
      "Epoch 1/15\n",
      " 16/500 [..............................] - ETA: 3s - loss: 1136574.7500"
     ]
    },
    {
     "name": "stderr",
     "output_type": "stream",
     "text": [
      "2021-10-25 00:42:11.099142: I tensorflow/core/grappler/optimizers/custom_graph_optimizer_registry.cc:112] Plugin optimizer for device_type GPU is enabled.\n"
     ]
    },
    {
     "name": "stdout",
     "output_type": "stream",
     "text": [
      "500/500 [==============================] - 4s 7ms/step - loss: 467558.7500\n",
      "Epoch 2/15\n",
      "500/500 [==============================] - 4s 7ms/step - loss: 76887.2031\n",
      "Epoch 3/15\n",
      "500/500 [==============================] - 4s 7ms/step - loss: 70204.2031\n",
      "Epoch 4/15\n",
      "500/500 [==============================] - 4s 7ms/step - loss: 63154.7695\n",
      "Epoch 5/15\n",
      "500/500 [==============================] - 4s 7ms/step - loss: 55015.6797\n",
      "Epoch 6/15\n",
      "500/500 [==============================] - 4s 8ms/step - loss: 43992.3242\n",
      "Epoch 7/15\n",
      "500/500 [==============================] - 4s 7ms/step - loss: 28449.6973\n",
      "Epoch 8/15\n",
      "500/500 [==============================] - 4s 8ms/step - loss: 12716.1162\n",
      "Epoch 9/15\n",
      "500/500 [==============================] - 4s 8ms/step - loss: 4653.2744\n",
      "Epoch 10/15\n",
      "500/500 [==============================] - 4s 7ms/step - loss: 2385.0730\n",
      "Epoch 11/15\n",
      "500/500 [==============================] - 4s 7ms/step - loss: 1648.8446\n",
      "Epoch 12/15\n",
      "500/500 [==============================] - 4s 7ms/step - loss: 1260.0294\n",
      "Epoch 13/15\n",
      "500/500 [==============================] - 4s 7ms/step - loss: 966.3391\n",
      "Epoch 14/15\n",
      "500/500 [==============================] - 4s 7ms/step - loss: 724.4438\n",
      "Epoch 15/15\n",
      "500/500 [==============================] - 4s 7ms/step - loss: 532.7930\n",
      "[[ 4.6624172e+01]\n",
      " [-3.8613957e-01]\n",
      " [ 1.4527786e+04]\n",
      " [ 1.2970107e+02]]\n"
     ]
    },
    {
     "name": "stderr",
     "output_type": "stream",
     "text": [
      "2021-10-25 00:43:06.677898: I tensorflow/core/grappler/optimizers/custom_graph_optimizer_registry.cc:112] Plugin optimizer for device_type GPU is enabled.\n"
     ]
    }
   ],
   "source": [
    "import numpy as np\n",
    "from tensorflow.keras.models import Sequential\n",
    "from tensorflow.keras.layers import Dense\n",
    "\n",
    "# Load training data\n",
    "x = -50 + np.random.random((25000,1))*100\n",
    "y = x**2\n",
    "\n",
    "# Define model\n",
    "model = Sequential()\n",
    "model.add(Dense(40, input_dim=1, activation='relu'))\n",
    "model.add(Dense(20, activation='relu'))\n",
    "model.add(Dense(10, activation='relu'))\n",
    "model.add(Dense(1))\n",
    "model.compile(loss='mean_squared_error', optimizer='nadam')\n",
    "model.fit(x, y, epochs=15, batch_size=50)\n",
    "\n",
    "predictions = model.predict([10, 5, 200, 13])\n",
    "print(predictions) # Approximately 100, 25, 40000, 169"
   ]
  },
  {
   "cell_type": "code",
   "execution_count": 14,
   "id": "fa3aacf3",
   "metadata": {},
   "outputs": [
    {
     "name": "stdout",
     "output_type": "stream",
     "text": [
      "[<keras.layers.core.Dense object at 0x166cbbbb0>, <keras.layers.core.Dense object at 0x166cbbc40>, <keras.layers.core.Dense object at 0x166cc3820>, <keras.layers.core.Dense object at 0x166cc3700>]\n"
     ]
    }
   ],
   "source": [
    "print(model.layers)"
   ]
  },
  {
   "cell_type": "code",
   "execution_count": 21,
   "id": "1b93f4ad",
   "metadata": {},
   "outputs": [
    {
     "name": "stdout",
     "output_type": "stream",
     "text": [
      "[[30548.871 ]\n",
      " [47872.543 ]\n",
      " [ 3054.8225]]\n"
     ]
    }
   ],
   "source": [
    "p = model.predict([[200,2000],[300,4000],[50,300]])\n",
    "print(p)"
   ]
  },
  {
   "cell_type": "code",
   "execution_count": 20,
   "id": "ceb20f89",
   "metadata": {},
   "outputs": [
    {
     "name": "stdout",
     "output_type": "stream",
     "text": [
      "[44000, 98000, 3100]\n"
     ]
    }
   ],
   "source": [
    "z2= [200*200 + 2000*2, 300*300 + 4000*2, 50*50 + 300*2]\n",
    "print(z2)"
   ]
  },
  {
   "cell_type": "code",
   "execution_count": null,
   "id": "2dd287f4",
   "metadata": {},
   "outputs": [],
   "source": []
  }
 ],
 "metadata": {
  "kernelspec": {
   "display_name": "Python 3 (ipykernel)",
   "language": "python",
   "name": "python3"
  },
  "language_info": {
   "codemirror_mode": {
    "name": "ipython",
    "version": 3
   },
   "file_extension": ".py",
   "mimetype": "text/x-python",
   "name": "python",
   "nbconvert_exporter": "python",
   "pygments_lexer": "ipython3",
   "version": "3.9.7"
  }
 },
 "nbformat": 4,
 "nbformat_minor": 5
}
