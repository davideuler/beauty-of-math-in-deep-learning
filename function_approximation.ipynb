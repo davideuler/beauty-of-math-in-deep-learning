{
 "cells": [
  {
   "cell_type": "code",
   "execution_count": 2,
   "id": "2347c4d9",
   "metadata": {},
   "outputs": [
    {
     "data": {
      "image/png": "[encoded data removed]",
      "text/plain": [
       "<Figure size 576x720 with 1 Axes>"
      ]
     },
     "metadata": {
      "needs_background": "light"
     },
     "output_type": "display_data"
    }
   ],
   "source": [
    "import numpy as np\n",
    "import matplotlib.pyplot as plt\n",
    "\n",
    "## 函数 z = x*x + 2*y, 生成 2000 个样本， x是从 0-100 之间均匀分布的2000个数字，y是<1000的2000个数字 ；\n",
    "total = 80000\n",
    "x = np.linspace(0, 100, total)\n",
    "y = np.random.randint(1000,size=total)\n",
    "z = x**2 + 2*y\n",
    "\n",
    "plt.figure(figsize=(8,10))\n",
    "plt.plot(x,y,label=\"$sin(x)$\",color=\"red\",linewidth=2)\n",
    "plt.plot(x,z,\"b--\",label=\"$cos(x^2)$\")\n",
    "plt.xlabel(\"Time(s)\")\n",
    "plt.ylabel(\"Volt\")\n",
    "plt.title(\"PyPlot First Example\")\n",
    "#plt.ylim(0, 15000)\n",
    "plt.legend()\n",
    "plt.show()"
   ]
  },
  {
   "cell_type": "code",
   "execution_count": 3,
   "id": "f84c5ba0",
   "metadata": {},
   "outputs": [
    {
     "name": "stdout",
     "output_type": "stream",
     "text": [
      "(80000, 2)\n"
     ]
    }
   ],
   "source": [
    "import numpy as np\n",
    "import matplotlib.pyplot as plt\n",
    "from dataset.mnist import load_mnist\n",
    "\n",
    "\n",
    "# 读入数据\n",
    "#(x_train, t_train), (x_test, t_test) = load_mnist(normalize=True, one_hot_label=True)\n",
    "\n",
    "#x_train.shape\n",
    "\n",
    "#len(x_train[0])\n",
    "\n",
    "input = np.zeros([total,2])\n",
    "print(input.shape)"
   ]
  },
  {
   "cell_type": "code",
   "execution_count": 4,
   "id": "f2f08325",
   "metadata": {},
   "outputs": [
    {
     "name": "stdout",
     "output_type": "stream",
     "text": [
      "(80000, 2)\n",
      "(80000,)\n",
      "[  0. 998.] 1996.0\n",
      "[1.25001563e-03 7.17000000e+02] 1434.000001562539\n",
      "[2.50003125e-03 4.63000000e+02] 926.0000062501563\n",
      "[2.50003125e-01 7.89000000e+02] 1578.0625015625294\n"
     ]
    }
   ],
   "source": [
    "output = np.zeros(total)\n",
    "\n",
    "for i in range(total):\n",
    "    input[i] = (x[i], y[i])\n",
    "    output[i] = z[i]\n",
    "\n",
    "print(input.shape)\n",
    "print(output.shape)\n",
    "print(input[0], output[0])\n",
    "print(input[1], output[1])\n",
    "print(input[2], output[2])\n",
    "print(input[200], output[200])"
   ]
  },
  {
   "cell_type": "code",
   "execution_count": 4,
   "id": "8061dbb5",
   "metadata": {},
   "outputs": [
    {
     "name": "stdout",
     "output_type": "stream",
     "text": [
      "Metal device set to: Apple M1\n"
     ]
    },
    {
     "name": "stderr",
     "output_type": "stream",
     "text": [
      "2021-10-25 00:07:28.400463: I tensorflow/core/common_runtime/pluggable_device/pluggable_device_factory.cc:305] Could not identify NUMA node of platform GPU ID 0, defaulting to 0. Your kernel may not have been built with NUMA support.\n",
      "2021-10-25 00:07:28.400559: I tensorflow/core/common_runtime/pluggable_device/pluggable_device_factory.cc:271] Created TensorFlow device (/job:localhost/replica:0/task:0/device:GPU:0 with 0 MB memory) -> physical PluggableDevice (device: 0, name: METAL, pci bus id: <undefined>)\n"
     ]
    },
    {
     "name": "stdout",
     "output_type": "stream",
     "text": [
      "Epoch 1/15\n",
      "\r",
      "   1/2500 [..............................] - ETA: 7:52 - loss: 28368512.0000 - mae: 4515.1528 - mse: 28368512.0000"
     ]
    },
    {
     "name": "stderr",
     "output_type": "stream",
     "text": [
      "2021-10-25 00:07:28.630401: I tensorflow/compiler/mlir/mlir_graph_optimization_pass.cc:185] None of the MLIR Optimization Passes are enabled (registered 2)\n",
      "2021-10-25 00:07:28.630593: W tensorflow/core/platform/profile_utils/cpu_utils.cc:128] Failed to get CPU frequency: 0 Hz\n",
      "2021-10-25 00:07:28.765041: I tensorflow/core/grappler/optimizers/custom_graph_optimizer_registry.cc:112] Plugin optimizer for device_type GPU is enabled.\n"
     ]
    },
    {
     "name": "stdout",
     "output_type": "stream",
     "text": [
      "2500/2500 [==============================] - 11s 4ms/step - loss: 934144.5625 - mae: 698.5642 - mse: 934144.5625\n",
      "Epoch 2/15\n",
      "2500/2500 [==============================] - 10s 4ms/step - loss: 442709.1562 - mae: 478.0376 - mse: 442709.1562\n",
      "Epoch 3/15\n",
      "2500/2500 [==============================] - 11s 4ms/step - loss: 334157.9688 - mae: 391.8257 - mse: 334157.9688\n",
      "Epoch 4/15\n",
      "2500/2500 [==============================] - 10s 4ms/step - loss: 268398.5000 - mae: 342.7505 - mse: 268398.5000\n",
      "Epoch 5/15\n",
      "2500/2500 [==============================] - 10s 4ms/step - loss: 235225.5781 - mae: 316.7630 - mse: 235225.5781\n",
      "Epoch 6/15\n",
      "2500/2500 [==============================] - 10s 4ms/step - loss: 202804.1719 - mae: 290.5476 - mse: 202804.1719\n",
      "Epoch 7/15\n",
      "2500/2500 [==============================] - 10s 4ms/step - loss: 180354.0312 - mae: 272.9164 - mse: 180354.0312\n",
      "Epoch 8/15\n",
      "2500/2500 [==============================] - 10s 4ms/step - loss: 164144.0938 - mae: 258.4620 - mse: 164144.0938\n",
      "Epoch 9/15\n",
      "2500/2500 [==============================] - 10s 4ms/step - loss: 150972.1562 - mae: 244.5230 - mse: 150972.1562\n",
      "Epoch 10/15\n",
      "2500/2500 [==============================] - 11s 4ms/step - loss: 141882.0312 - mae: 238.0295 - mse: 141882.0312\n",
      "Epoch 11/15\n",
      "2500/2500 [==============================] - 10s 4ms/step - loss: 131316.1719 - mae: 229.4431 - mse: 131316.1719\n",
      "Epoch 12/15\n",
      "2500/2500 [==============================] - 10s 4ms/step - loss: 123060.1953 - mae: 223.1669 - mse: 123060.1953\n",
      "Epoch 13/15\n",
      "2500/2500 [==============================] - 10s 4ms/step - loss: 115875.2812 - mae: 217.1701 - mse: 115875.2812\n",
      "Epoch 14/15\n",
      "2500/2500 [==============================] - 10s 4ms/step - loss: 108927.4922 - mae: 210.5586 - mse: 108927.4922\n",
      "Epoch 15/15\n",
      "2500/2500 [==============================] - 10s 4ms/step - loss: 105205.7188 - mae: 205.9256 - mse: 105205.7188\n"
     ]
    }
   ],
   "source": [
    "import tensorflow as tf\n",
    "(x_train, y_train) = (input,output)\n",
    "\n",
    "model = tf.keras.models.Sequential([\n",
    "  tf.keras.Input(shape=(2,)),\n",
    "  tf.keras.layers.Dense(24, activation='relu'),\n",
    "  tf.keras.layers.Dense(12, activation='relu'),\n",
    "  tf.keras.layers.Dense(1)\n",
    "])\n",
    "\n",
    "model.compile(optimizer=tf.keras.optimizers.RMSprop(0.02),\n",
    "              loss='mean_squared_error', metrics=['mae','mse'])\n",
    "\n",
    "#训练模型\n",
    "history = model.fit(x_train, y_train, epochs=15)"
   ]
  },
  {
   "cell_type": "code",
   "execution_count": 6,
   "id": "03e019b8",
   "metadata": {},
   "outputs": [
    {
     "data": {
      "text/plain": [
       "array([[2248.1597 ],\n",
       "       [ 349.17575],\n",
       "       [1010.4763 ],\n",
       "       [3668.6475 ]], dtype=float32)"
      ]
     },
     "execution_count": 6,
     "metadata": {},
     "output_type": "execute_result"
    }
   ],
   "source": [
    "model.predict([[45,100],[10,20],[30,50],[60,80]])"
   ]
  },
  {
   "cell_type": "code",
   "execution_count": 6,
   "id": "792c8776",
   "metadata": {},
   "outputs": [
    {
     "name": "stdout",
     "output_type": "stream",
     "text": [
      "Epoch 1/10\n",
      "  10/2500 [..............................] - ETA: 15s - loss: 30461462.0000 - mae: 4468.2798 - mse: 30461462.0000  "
     ]
    },
    {
     "name": "stderr",
     "output_type": "stream",
     "text": [
      "2021-10-25 00:14:56.579814: I tensorflow/core/grappler/optimizers/custom_graph_optimizer_registry.cc:112] Plugin optimizer for device_type GPU is enabled.\n"
     ]
    },
    {
     "name": "stdout",
     "output_type": "stream",
     "text": [
      "2500/2500 [==============================] - 16s 6ms/step - loss: 843013.7500 - mae: 618.9134 - mse: 843013.7500\n",
      "Epoch 2/10\n",
      "2500/2500 [==============================] - 15s 6ms/step - loss: 178815.0781 - mae: 293.3965 - mse: 178815.0781\n",
      "Epoch 3/10\n",
      "2500/2500 [==============================] - 16s 6ms/step - loss: 84607.8516 - mae: 197.8997 - mse: 84607.8516\n",
      "Epoch 4/10\n",
      "2500/2500 [==============================] - 15s 6ms/step - loss: 58478.6445 - mae: 163.4881 - mse: 58478.6445\n",
      "Epoch 5/10\n",
      "2500/2500 [==============================] - 16s 6ms/step - loss: 48564.8008 - mae: 154.2717 - mse: 48564.8008\n",
      "Epoch 6/10\n",
      "2500/2500 [==============================] - 16s 6ms/step - loss: 59235.3047 - mae: 156.4817 - mse: 59235.3047\n",
      "Epoch 7/10\n",
      "2500/2500 [==============================] - 16s 6ms/step - loss: 38436.9062 - mae: 146.4743 - mse: 38436.9062\n",
      "Epoch 8/10\n",
      "2500/2500 [==============================] - 16s 6ms/step - loss: 24910.1484 - mae: 118.6561 - mse: 24910.1484\n",
      "Epoch 9/10\n",
      "2500/2500 [==============================] - 16s 6ms/step - loss: 23987.7891 - mae: 113.0933 - mse: 23987.7891\n",
      "Epoch 10/10\n",
      "2500/2500 [==============================] - 15s 6ms/step - loss: 20498.7051 - mae: 108.8869 - mse: 20498.7051\n"
     ]
    }
   ],
   "source": [
    "import tensorflow as tf\n",
    "(x_train, y_train) = (input,output)\n",
    "\n",
    "model = tf.keras.models.Sequential([\n",
    "  tf.keras.Input(shape=(2,)),\n",
    "  tf.keras.layers.Dense(24, activation='relu'),\n",
    "  tf.keras.layers.Dense(12, activation='relu'),\n",
    "  tf.keras.layers.Dense(1)\n",
    "])\n",
    "\n",
    "model.compile(optimizer=tf.keras.optimizers.Nadam(learning_rate=0.02),\n",
    "              loss='mean_squared_error', metrics=['mae','mse'])\n",
    "\n",
    "#训练模型\n",
    "history = model.fit(x_train, y_train, epochs=10)"
   ]
  },
  {
   "cell_type": "code",
   "execution_count": 7,
   "id": "58ba2a5b",
   "metadata": {},
   "outputs": [
    {
     "name": "stderr",
     "output_type": "stream",
     "text": [
      "2021-10-25 00:18:06.056336: I tensorflow/core/grappler/optimizers/custom_graph_optimizer_registry.cc:112] Plugin optimizer for device_type GPU is enabled.\n"
     ]
    },
    {
     "data": {
      "text/plain": [
       "array([[2117.375  ],\n",
       "       [ 223.93542],\n",
       "       [1085.9729 ],\n",
       "       [3600.0576 ]], dtype=float32)"
      ]
     },
     "execution_count": 7,
     "metadata": {},
     "output_type": "execute_result"
    }
   ],
   "source": [
    "model.predict([[45,100],[10,20],[30,50],[60,80]])"
   ]
  }
 ],
 "metadata": {
  "kernelspec": {
   "display_name": "Python 3 (ipykernel)",
   "language": "python",
   "name": "python3"
  },
  "language_info": {
   "codemirror_mode": {
    "name": "ipython",
    "version": 3
   },
   "file_extension": ".py",
   "mimetype": "text/x-python",
   "name": "python",
   "nbconvert_exporter": "python",
   "pygments_lexer": "ipython3",
   "version": "3.9.7"
  }
 },
 "nbformat": 4,
 "nbformat_minor": 5
}
